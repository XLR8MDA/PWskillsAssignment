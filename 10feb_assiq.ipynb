{
 "cells": [
  {
   "attachments": {},
   "cell_type": "markdown",
   "metadata": {},
   "source": [
    "Q1. Which function is used to open a file? What are the different modes of opening a file? Explain each mode\n",
    "of file opening.\n",
    "\n",
    "The open() function is used to open a file in Python. It takes the file path as a parameter and returns a file object that can be used to perform various operations on the file.\n",
    "\n",
    "The different modes of opening a file are:\n",
    "\n",
    "'r': Read mode (default). Opens a file for reading. Raises an error if the file does not exist.\n",
    "'w': Write mode. Opens a file for writing. Creates a new file if it doesn't exist or truncates the file if it exists.\n",
    "'a': Append mode. Opens a file for appending. The file pointer is at the end of the file, and new data is written to the end.\n",
    "'x': Exclusive creation mode. Opens a file for exclusive creation. Raises an error if the file already exists.\n",
    "'b': Binary mode. Opens a file in binary mode.\n",
    "'t': Text mode (default). Opens a file in text mode.\n",
    "'+': Updating mode. Opens a file for updating (reading and writing).\n"
   ]
  },
  {
   "attachments": {},
   "cell_type": "markdown",
   "metadata": {},
   "source": [
    "Q2. Why close() function is used? Why is it important to close a file?\n",
    "\n",
    "The close() function is used to close a file in Python. It is important to close a file after performing operations on it because:\n",
    "\n",
    "Closing a file releases the resources used by the operating system to keep track of the file.\n",
    "It ensures that all the data is written to the file before it is closed.\n",
    "Closing a file prevents any further operations on the file, avoiding potential data corruption or loss.\n",
    "It is a good practice to clean up system resources and avoid memory leaks.\n"
   ]
  },
  {
   "attachments": {},
   "cell_type": "markdown",
   "metadata": {},
   "source": [
    "Q3. Write a python program to create a text file. Write ‘I want to become a Data Scientist’ in that file. Then\n",
    "close the file. Open this file and read the content of the file."
   ]
  },
  {
   "cell_type": "code",
   "execution_count": null,
   "metadata": {},
   "outputs": [],
   "source": [
    "# Create a text file and write into it\n",
    "file = open(\"my_file.txt\", \"w\")\n",
    "file.write(\"I want to become a Data Scientist\")\n",
    "file.close()\n",
    "\n",
    "# Open the file and read its content\n",
    "file = open(\"my_file.txt\", \"r\")\n",
    "content = file.read()\n",
    "file.close()\n",
    "\n",
    "print(content)\n"
   ]
  },
  {
   "attachments": {},
   "cell_type": "markdown",
   "metadata": {},
   "source": [
    "Q4. Explain the following with python code: read(), readline() and readlines().\n",
    "\n",
    "In Python, the read(), readline(), and readlines() functions are used to read data from a file:\n",
    "\n",
    "The read() function reads the entire content of a file and returns it as a string. If no size argument is provided, it reads the entire file.\n",
    "\n",
    "The readline() function reads a single line from the file and returns it as a string. It moves the file pointer to the next line.\n",
    "\n",
    "The readlines() function reads all the lines from the file and returns them as a list of strings. Each string represents a line from the file."
   ]
  },
  {
   "cell_type": "code",
   "execution_count": null,
   "metadata": {},
   "outputs": [],
   "source": [
    "# Open the file for reading\n",
    "file = open(\"my_file.txt\", \"r\")\n",
    "\n",
    "# Read the entire content\n",
    "content1 = file.read()\n",
    "print(content1)\n",
    "\n",
    "# Move to the beginning of the file\n",
    "file.seek(0)\n",
    "\n",
    "# Read a single line\n",
    "line1 = file.readline()\n",
    "print(line1)\n",
    "\n",
    "# Read all the lines and store them in a list\n",
    "file.seek(0)\n",
    "lines = file.readlines()\n",
    "print(lines)\n",
    "\n",
    "# Close the file\n",
    "file.close()\n"
   ]
  },
  {
   "attachments": {},
   "cell_type": "markdown",
   "metadata": {},
   "source": [
    "\n",
    "Q5. Explain why with statement is used with open(). What is the advantage of using with statement and\n",
    "open() together?\n",
    "\n",
    "The with statement is used with open() to ensure proper handling of file operations. It guarantees that the file will be properly closed, even if an exception occurs.\n",
    "\n",
    "The advantage of using the with statement with open() is that it automatically takes care of closing the file, eliminating the need for explicit close() calls. It provides a clean and concise way to handle file operations while ensuring the file is closed correctly, regardless of any exceptions that might occur."
   ]
  },
  {
   "cell_type": "code",
   "execution_count": null,
   "metadata": {},
   "outputs": [],
   "source": [
    "# Open the file using 'with' statement\n",
    "with open(\"my_file.txt\", \"r\") as file:\n",
    "    content = file.read()\n",
    "    # Perform operations on the file\n",
    "\n",
    "# File is automatically closed outside the 'with' block\n"
   ]
  },
  {
   "attachments": {},
   "cell_type": "markdown",
   "metadata": {},
   "source": [
    "\n",
    "Q6. Explain the write() and writelines() functions. Give a suitable example.\n",
    "\n",
    "The write() function is used to write a string to a file. It takes a string as an argument and writes it to the file.\n",
    "\n",
    "The writelines() function is used to write a list of strings to a file. It takes a list of strings as an argument and writes each string to the file, one after the other."
   ]
  },
  {
   "cell_type": "code",
   "execution_count": null,
   "metadata": {},
   "outputs": [],
   "source": [
    "# Open the file for writing\n",
    "file = open(\"my_file.txt\", \"w\")\n",
    "\n",
    "# Write a string to the file\n",
    "file.write(\"I want to become a Data Scientist\\n\")\n",
    "\n",
    "# Write a list of strings to the file\n",
    "lines = [\"I love programming\", \"Data analysis is fascinating\", \"Machine learning excites me\"]\n",
    "file.writelines(lines)\n",
    "\n",
    "# Close the file\n",
    "file.close()\n"
   ]
  }
 ],
 "metadata": {
  "language_info": {
   "name": "python"
  },
  "orig_nbformat": 4
 },
 "nbformat": 4,
 "nbformat_minor": 2
}
