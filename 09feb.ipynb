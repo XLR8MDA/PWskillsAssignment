{
 "cells": [
  {
   "attachments": {},
   "cell_type": "markdown",
   "metadata": {},
   "source": [
    "Q1, Create a vehicle class with an init method having instance variables as name_of_vehicle, max_speed\n",
    "and average_of_vehicle."
   ]
  },
  {
   "cell_type": "code",
   "execution_count": 1,
   "metadata": {},
   "outputs": [],
   "source": [
    "class Vehicle:\n",
    "    def __init__(self, name_of_vehicle, max_speed, average_of_vehicle):\n",
    "        self.name_of_vehicle = name_of_vehicle\n",
    "        self.max_speed = max_speed\n",
    "        self.average_of_vehicle = average_of_vehicle\n"
   ]
  },
  {
   "attachments": {},
   "cell_type": "markdown",
   "metadata": {},
   "source": [
    "Q2. Create a child class car from the vehicle class created in Que 1, which will inherit the vehicle class.\n",
    "Create a method named seating_capacity which takes capacity as an argument and returns the name of\n",
    "the vehicle and its seating capacity.\n"
   ]
  },
  {
   "cell_type": "code",
   "execution_count": 2,
   "metadata": {},
   "outputs": [],
   "source": [
    "class Car(Vehicle):\n",
    "    def seating_capacity(self, capacity):\n",
    "        return f\"The {self.name_of_vehicle} has a seating capacity of {capacity} people.\"\n"
   ]
  },
  {
   "attachments": {},
   "cell_type": "markdown",
   "metadata": {},
   "source": [
    "Q3. What is multiple inheritance? Write a python code to demonstrate multiple inheritance.\n",
    "Multiple inheritance is a feature of object-oriented programming where a class can inherit attributes and methods from multiple parent classes. It allows a derived class to inherit from more than one base class, incorporating their functionalities into the derived class."
   ]
  },
  {
   "cell_type": "code",
   "execution_count": 3,
   "metadata": {},
   "outputs": [
    {
     "name": "stdout",
     "output_type": "stream",
     "text": [
      "This is method A from ClassA\n",
      "This is method B from ClassB\n",
      "This is method C from ClassC\n"
     ]
    }
   ],
   "source": [
    "class ClassA:\n",
    "    def method_a(self):\n",
    "        print(\"This is method A from ClassA\")\n",
    "\n",
    "class ClassB:\n",
    "    def method_b(self):\n",
    "        print(\"This is method B from ClassB\")\n",
    "\n",
    "class ClassC(ClassA, ClassB):\n",
    "    def method_c(self):\n",
    "        print(\"This is method C from ClassC\")\n",
    "\n",
    "obj = ClassC()\n",
    "obj.method_a()  # Output: This is method A from ClassA\n",
    "obj.method_b()  # Output: This is method B from ClassB\n",
    "obj.method_c()  # Output: This is method C from ClassC\n"
   ]
  },
  {
   "attachments": {},
   "cell_type": "markdown",
   "metadata": {},
   "source": [
    "Q4. What are getter and setter in python? Create a class and create a getter and a setter method in this\n",
    "class.\n",
    "Getter and setter methods, also known as accessor and mutator methods, are used to retrieve and modify the values of private attributes (variables) of a class, respectively. They provide controlled access to the private attributes and allow encapsulation by enforcing proper data access and modification."
   ]
  },
  {
   "cell_type": "code",
   "execution_count": 4,
   "metadata": {},
   "outputs": [
    {
     "name": "stdout",
     "output_type": "stream",
     "text": [
      "10\n"
     ]
    }
   ],
   "source": [
    "class MyClass:\n",
    "    def __init__(self):\n",
    "        self._value = None\n",
    "\n",
    "    def get_value(self):\n",
    "        return self._value\n",
    "\n",
    "    def set_value(self, new_value):\n",
    "        self._value = new_value\n",
    "\n",
    "obj = MyClass()\n",
    "obj.set_value(10)\n",
    "print(obj.get_value())  # Output: 10\n"
   ]
  },
  {
   "attachments": {},
   "cell_type": "markdown",
   "metadata": {},
   "source": [
    "Q5.What is method overriding in python? Write a python code to demonstrate method overriding.\n",
    "Method overriding in Python is a feature that allows a derived class to provide its own implementation of a method that is already defined in its base class(es). The method in the derived class overrides the implementation of the same-named method in the base class(es)."
   ]
  },
  {
   "cell_type": "code",
   "execution_count": 6,
   "metadata": {},
   "outputs": [
    {
     "name": "stdout",
     "output_type": "stream",
     "text": [
      "This is a message from the DerivedClass.\n"
     ]
    }
   ],
   "source": [
    "class BaseClass:\n",
    "    def print_message(self):\n",
    "        print(\"This is a message from the BaseClass.\")\n",
    "\n",
    "class DerivedClass(BaseClass):\n",
    "    def print_message(self):\n",
    "        print(\"This is a message from the DerivedClass.\")\n",
    "\n",
    "obj = DerivedClass()\n",
    "obj.print_message()  # Output: This is a message from the DerivedClass.\n"
   ]
  }
 ],
 "metadata": {
  "kernelspec": {
   "display_name": "Python 3",
   "language": "python",
   "name": "python3"
  },
  "language_info": {
   "codemirror_mode": {
    "name": "ipython",
    "version": 3
   },
   "file_extension": ".py",
   "mimetype": "text/x-python",
   "name": "python",
   "nbconvert_exporter": "python",
   "pygments_lexer": "ipython3",
   "version": "3.11.2"
  },
  "orig_nbformat": 4
 },
 "nbformat": 4,
 "nbformat_minor": 2
}
