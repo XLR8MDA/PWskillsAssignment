{
 "cells": [
  {
   "attachments": {},
   "cell_type": "markdown",
   "metadata": {},
   "source": [
    "1. Who developed Python Programming Language?\n",
    "Python Programming Language was developed by Guido van Rossum in the late 1980s and early 1990s."
   ]
  },
  {
   "attachments": {},
   "cell_type": "markdown",
   "metadata": {},
   "source": [
    "2. Which type of programming does Python support?\n",
    "Python supports multiple programming paradigms, including object-oriented, imperative, and functional programming styles."
   ]
  },
  {
   "attachments": {},
   "cell_type": "markdown",
   "metadata": {},
   "source": [
    "3. IS Python case sensitive when dealing With identifiers?\n",
    "Yes, Python is case-sensitive when dealing with identifiers. This means that variables or functions with different capitalization are considered to be different identifiers in Python."
   ]
  },
  {
   "attachments": {},
   "cell_type": "markdown",
   "metadata": {},
   "source": [
    "4. What is the correct extension of the Python file?\n",
    "The correct extension of a Python file is \".py\". This extension is used to identify Python source files."
   ]
  },
  {
   "attachments": {},
   "cell_type": "markdown",
   "metadata": {},
   "source": [
    "5. Is Python code compiled or interpreted?\n",
    "Python code is interpreted. This means that the code is executed directly without being compiled into machine code beforehand."
   ]
  },
  {
   "attachments": {},
   "cell_type": "markdown",
   "metadata": {},
   "source": [
    "6. Name a few blocks of eode used to define in Python language?\n",
    "Some common blocks of code in Python include functions, loops (for and while), conditionals (if/else), and classes. These blocks are used to define different parts of a program and to control the flow of execution."
   ]
  },
  {
   "attachments": {},
   "cell_type": "markdown",
   "metadata": {},
   "source": [
    "7. State a character used to give comments in Python?\n",
    "The \"#\" character is used to give comments in Python. Any text that comes after \"#\" on a line is considered to be a comment and is ignored by the interpreter."
   ]
  },
  {
   "attachments": {},
   "cell_type": "markdown",
   "metadata": {},
   "source": [
    "8. Mention functions which can help us to find the version of python that we are currently working on?\n",
    "The functions \"sys.version\" or \"platform.python_version\" can be used to find the version of Python that is currently being used."
   ]
  },
  {
   "attachments": {},
   "cell_type": "markdown",
   "metadata": {},
   "source": [
    "9. python supports the creation of anonymous functions at runtime, using a constructor called _______\n",
    "Python supports the creation of anonymous functions at runtime, using a constructor called \"lambda\". The lambda keyword is used to create small, anonymous functions that can be used inline in code."
   ]
  }
 ],
 "metadata": {
  "language_info": {
   "name": "python"
  },
  "orig_nbformat": 4
 },
 "nbformat": 4,
 "nbformat_minor": 2
}
