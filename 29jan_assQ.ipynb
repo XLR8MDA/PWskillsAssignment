{
 "cells": [
  {
   "attachments": {},
   "cell_type": "markdown",
   "metadata": {},
   "source": [
    "1. Who developed Python Programming Language?\n",
    "Python Programming Language was developed by Guido van Rossum in the late 1980s and early 1990s."
   ]
  },
  {
   "attachments": {},
   "cell_type": "markdown",
   "metadata": {},
   "source": [
    "2. Which type of programming does Python support?\n",
    "Python supports multiple programming paradigms, including object-oriented, imperative, and functional programming styles."
   ]
  },
  {
   "attachments": {},
   "cell_type": "markdown",
   "metadata": {},
   "source": [
    "3. IS Python case sensitive when dealing With identifiers?\n",
    "Yes, Python is case-sensitive when dealing with identifiers. This means that variables or functions with different capitalization are considered to be different identifiers in Python."
   ]
  },
  {
   "attachments": {},
   "cell_type": "markdown",
   "metadata": {},
   "source": [
    "4. What is the correct extension of the Python file?\n",
    "The correct extension of a Python file is \".py\". This extension is used to identify Python source files."
   ]
  },
  {
   "attachments": {},
   "cell_type": "markdown",
   "metadata": {},
   "source": [
    "5. Is Python code compiled or interpreted?\n",
    "Python code is interpreted. This means that the code is executed directly without being compiled into machine code beforehand."
   ]
  },
  {
   "attachments": {},
   "cell_type": "markdown",
   "metadata": {},
   "source": [
    "6. Name a few blocks of eode used to define in Python language?\n",
    "Some common blocks of code in Python include functions, loops (for and while), conditionals (if/else), and classes. These blocks are used to define different parts of a program and to control the flow of execution."
   ]
  },
  {
   "attachments": {},
   "cell_type": "markdown",
   "metadata": {},
   "source": [
    "7. State a character used to give comments in Python?\n",
    "The \"#\" character is used to give comments in Python. Any text that comes after \"#\" on a line is considered to be a comment and is ignored by the interpreter."
   ]
  },
  {
   "attachments": {},
   "cell_type": "markdown",
   "metadata": {},
   "source": [
    "8. Mention functions which can help us to find the version of python that we are currently working on?\n",
    "The functions \"sys.version\" or \"platform.python_version\" can be used to find the version of Python that is currently being used."
   ]
  },
  {
   "attachments": {},
   "cell_type": "markdown",
   "metadata": {},
   "source": [
    "9. python supports the creation of anonymous functions at runtime, using a constructor called _______\n",
    "Python supports the creation of anonymous functions at runtime, using a constructor called \"lambda\". The lambda keyword is used to create small, anonymous functions that can be used inline in code."
   ]
  },
  {
   "attachments": {},
   "cell_type": "markdown",
   "metadata": {},
   "source": [
    "10. What does pip stand for python?\n",
    "Pip stands for \"Pip Installs Packages\". It is a package manager for Python that allows you to easily install, upgrade, and manage third-party libraries and dependencies.\n"
   ]
  },
  {
   "attachments": {},
   "cell_type": "markdown",
   "metadata": {},
   "source": [
    "11. Mention a few built-in functions in python?\n",
    "\n",
    "Here are a few built-in functions in Python:\n",
    "\n",
    "print() - used to print the specified message to the console\n",
    "len() - used to get the length of a string, list, or other iterable object\n",
    "input() - used to prompt the user to enter input\n",
    "range() - used to generate a sequence of numbers\n",
    "type() - used to get the type of an object\n",
    "int() - used to convert a string or other type to an integer\n",
    "str() - used to convert a number or other type to a string\n",
    "float() - used to convert a string or other type to a floating-point number\n",
    "list() - used to create a list from an iterable object\n",
    "\n"
   ]
  },
  {
   "attachments": {},
   "cell_type": "markdown",
   "metadata": {},
   "source": [
    "\n",
    "12. What is the maximum possible length of an identifier in Python?\n",
    "\n",
    "The maximum possible length of an identifier in Python is unlimited. However, it is recommended to keep the identifier names reasonably short and descriptive to make the code more readable and understandable.\n"
   ]
  },
  {
   "attachments": {},
   "cell_type": "markdown",
   "metadata": {},
   "source": [
    "\n",
    "13. What are the benefits Of using Python?\n",
    "\n",
    "Some benefits of using Python are:\n",
    "\n",
    "Easy to learn and use\n",
    "Versatile and flexible\n",
    "Large standard library and third-party package ecosystem\n",
    "Cross-platform compatibility\n",
    "Object-oriented programming support\n",
    "Excellent community support and resources\n",
    "Good for data analysis, machine learning, web development, and more.\n",
    "\n"
   ]
  },
  {
   "attachments": {},
   "cell_type": "markdown",
   "metadata": {},
   "source": [
    "\n",
    "14. How is memory managed in Python?\n",
    "Memory management in Python is handled by the Python interpreter's memory manager. It uses a combination of reference counting and garbage collection to automatically manage the allocation and deallocation of memory for objects. When an object is no longer needed, the memory is automatically freed up by the garbage collector.\n"
   ]
  },
  {
   "attachments": {},
   "cell_type": "markdown",
   "metadata": {},
   "source": [
    "15. How to install Python on Windows and set path variables?\n",
    "To install Python on Windows and set path variables, you can follow these steps:\n",
    "\n",
    "-Download the latest Python installer from the official website and run it.\n",
    "-Follow the installation wizard and choose the installation options you want.\n",
    "-After installation, open the Control Panel and navigate to System > Advanced system settings > Environment Variables.\n",
    "-Under \"System variables\", find the \"Path\" variable and click \"Edit\".\n",
    "-Add the path to the Python installation directory (e.g. C:\\Python39) to the list of paths, separated by semicolons.\n",
    "-Click \"OK\" to save the changes and close the windows."
   ]
  },
  {
   "attachments": {},
   "cell_type": "markdown",
   "metadata": {},
   "source": [
    "\n",
    "16. Is indentation required in python?\n",
    "Yes, indentation is required in Python. Python uses indentation to indicate blocks of code that belong together, instead of using curly braces or other symbols as in other programming languages. Indentation in Python is used to define the scope of a code block, such as a loop or conditional statement."
   ]
  }
 ],
 "metadata": {
  "language_info": {
   "name": "python"
  },
  "orig_nbformat": 4
 },
 "nbformat": 4,
 "nbformat_minor": 2
}
