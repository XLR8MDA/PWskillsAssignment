{
 "cells": [
  {
   "attachments": {},
   "cell_type": "markdown",
   "metadata": {},
   "source": [
    "Q1. What is Web Scraping? Why is it Used? Give three areas where Web Scraping is used to get data.\n",
    "\n",
    "Web scraping is the process of automatically extracting data from websites by using software tools called web scrapers. These tools are designed to collect large amounts of data from websites and transform it into a format that is more easily processed and analyzed.\n",
    "Web Scrapping is used in E-commerce,Research and Marketing."
   ]
  },
  {
   "attachments": {},
   "cell_type": "markdown",
   "metadata": {},
   "source": [
    "Q2. What are the different methods used for Web Scraping?\n",
    "Manual Scraping: This involves manually copying and pasting data from websites into a spreadsheet or other document. \n",
    "\n",
    "APIs: Some websites offer APIs (Application Programming Interfaces) that provide programmatic access to their data.\n",
    " \n",
    "Parsing HTML: This method involves parsing the HTML code of a website to extract the desired data."
   ]
  },
  {
   "attachments": {},
   "cell_type": "markdown",
   "metadata": {},
   "source": [
    "Q3. What is Beautiful Soup? Why is it used?\n",
    "Beautiful Soup is a Python library that is used for web scraping purposes. It is designed to make it easy to parse HTML and XML documents, and to extract the desired information from these documents.\n",
    "Beautiful Soup is widely used for web scraping because it is easy to use and requires minimal code to get started. It can be used to parse HTML from a file, a URL, or a string, and can then be used to navigate and search the HTML structure to find the desired data."
   ]
  },
  {
   "attachments": {},
   "cell_type": "markdown",
   "metadata": {},
   "source": [
    "Q4. Why is flask used in this Web Scraping project?\n",
    "Flask is a Python web framework that is often used for developing web applications and APIs. In a web scraping project, Flask can be used to create a web application that allows users to interact with the scraped data."
   ]
  },
  {
   "attachments": {},
   "cell_type": "markdown",
   "metadata": {},
   "source": [
    "Q5. Write the names of AWS services used in this project. Also, explain the use of each service.\n",
    "\n",
    "AWS Elastic Beanstalk service makes it easy to deploy and run web applications and services. With Elastic Beanstalk, you can upload your code and the service automatically handles the deployment, scaling, and monitoring of your application. \n",
    "AWS CodePipeline is a continuous delivery service that helps you automate your software release process. CodePipeline allows you to create pipelines that automatically build, test, and deploy your code every time there is a change."
   ]
  }
 ],
 "metadata": {
  "language_info": {
   "name": "python"
  },
  "orig_nbformat": 4
 },
 "nbformat": 4,
 "nbformat_minor": 2
}
