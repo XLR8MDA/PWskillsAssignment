{
 "cells": [
  {
   "cell_type": "markdown",
   "id": "c6c80bfb-09f8-477d-b76d-242dba1e8806",
   "metadata": {},
   "source": [
    "Q1. Explain with an example each when to use a for loop and a while loop.\n",
    "\n",
    "A for loop is used when the number of iterations are known beforehand or when we want to iterate over a sequence like a list, tuple, or string.\n",
    "\n",
    "A while loop is used when the number of iterations are not known beforehand or when we want to keep looping until a certain condition is met. "
   ]
  },
  {
   "cell_type": "code",
   "execution_count": 1,
   "id": "34d3c516-bca0-438f-8183-c174b98f8927",
   "metadata": {},
   "outputs": [
    {
     "name": "stdout",
     "output_type": "stream",
     "text": [
      "2\n",
      "4\n",
      "6\n",
      "8\n",
      "10\n"
     ]
    }
   ],
   "source": [
    "for i in range(2, 12, 2):\n",
    "    print(i)"
   ]
  },
  {
   "cell_type": "code",
   "execution_count": 2,
   "id": "815c65a3-676d-41d7-977e-eca66beee1bc",
   "metadata": {},
   "outputs": [
    {
     "name": "stdout",
     "output_type": "stream",
     "text": [
      "2\n",
      "4\n",
      "6\n",
      "8\n",
      "10\n"
     ]
    }
   ],
   "source": [
    "count = 0\n",
    "i = 2\n",
    "\n",
    "while count < 5:\n",
    "    print(i)\n",
    "    i += 2\n",
    "    count += 1\n"
   ]
  },
  {
   "cell_type": "markdown",
   "id": "c49b1a9f-8707-4603-a033-0adf922a70a4",
   "metadata": {},
   "source": [
    "Q2. Write a python program to print the sum and product of the first 10 natural numbers using for\n",
    "and while loop."
   ]
  },
  {
   "cell_type": "code",
   "execution_count": 3,
   "id": "e0e784a9-a8ae-40fe-816a-041a4529ac83",
   "metadata": {},
   "outputs": [
    {
     "name": "stdout",
     "output_type": "stream",
     "text": [
      "Sum of first 10 natural numbers is: 55\n",
      "Product of first 10 natural numbers is: 3628800\n"
     ]
    }
   ],
   "source": [
    "\n",
    "sum = 0\n",
    "for i in range(1, 11):\n",
    "    sum += i\n",
    "\n",
    "print(\"Sum of first 10 natural numbers is:\", sum)\n",
    "\n",
    "product = 1\n",
    "for i in range(1, 11):\n",
    "    product *= i\n",
    "\n",
    "print(\"Product of first 10 natural numbers is:\", product)\n"
   ]
  },
  {
   "cell_type": "markdown",
   "id": "68500dd2-40e5-4d67-b943-ee5f054fb847",
   "metadata": {},
   "source": [
    "Q3. Create a python program to compute the electricity bill for a household.\n",
    "The per-unit charges in rupees are as follows: For the first 100 units, the user will be charged Rs. 4.5 per\n",
    "unit, for the next 100 units, the user will be charged Rs. 6 per unit, and for the next 100 units, the user will\n",
    "be charged Rs. 10 per unit, After 300 units and above the user will be charged Rs. 20 per unit.\n",
    "You are required to take the units of electricity consumed in a month from the user as input."
   ]
  },
  {
   "cell_type": "code",
   "execution_count": 6,
   "id": "ebc5be82-3ffd-4de0-a2ea-4730afd807b2",
   "metadata": {},
   "outputs": [
    {
     "name": "stdin",
     "output_type": "stream",
     "text": [
      "Enter the units of electricity consumed in a month:  310\n"
     ]
    },
    {
     "name": "stdout",
     "output_type": "stream",
     "text": [
      "The total electricity bill is: 2250.0\n"
     ]
    }
   ],
   "source": [
    "# taking the unit of electricity consumed as input from the user\n",
    "units = int(input(\"Enter the units of electricity consumed in a month: \"))\n",
    "\n",
    "# calculating the electricity bill based on the units consumed\n",
    "if units <= 100:\n",
    "    bill = units * 4.5\n",
    "elif units <= 200:\n",
    "    bill = 100 * 4.5 + (units - 100) * 6\n",
    "elif units <= 300:\n",
    "    bill = 100 * 4.5 + 100 * 6 + (units - 200) * 10\n",
    "else:\n",
    "    bill = 100 * 4.5 + 100 * 6 + 100 * 10 + (units - 300) * 20\n",
    "\n",
    "# printing the total electricity bill\n",
    "print(\"The total electricity bill is:\", bill)\n"
   ]
  },
  {
   "cell_type": "markdown",
   "id": "10a9c156-2b97-4662-9959-d407c0ffe575",
   "metadata": {},
   "source": [
    "Q4. Create a list of numbers from 1 to 100. Use for loop and while loop to calculate the cube of each\n",
    "number and if the cube of that number is divisible by 4 or 5 then append that number in a list and print\n",
    "that list."
   ]
  },
  {
   "cell_type": "code",
   "execution_count": null,
   "id": "eb541bd1-c373-466f-be8d-39b6c2919fd8",
   "metadata": {},
   "outputs": [],
   "source": [
    "# creating a list of numbers from 1 to 100\n",
    "num_list = list(range(1, 101))\n",
    "\n",
    "# creating an empty list to store the numbers whose cubes are divisible by 4 or 5\n",
    "divisible_by_list = []\n",
    "\n",
    "# using a for loop to calculate the cube of each number\n",
    "for num in num_list:\n",
    "    cube = num ** 3\n",
    "    # checking if the cube of the number is divisible by 4 or 5\n",
    "    if cube % 4 == 0 or cube % 5 == 0:\n",
    "        divisible_by_list.append(num)\n",
    "\n",
    "# printing the list of numbers whose cubes are divisible by 4 or 5\n",
    "print(\"List of numbers whose cubes are divisible by 4 or 5:\", divisible_by_list)\n"
   ]
  },
  {
   "cell_type": "code",
   "execution_count": null,
   "id": "cb69da66-da29-462c-a40a-6c8ab877324a",
   "metadata": {},
   "outputs": [],
   "source": []
  },
  {
   "cell_type": "code",
   "execution_count": null,
   "id": "2b02bf5f-b5f4-4a9b-84d8-66cc86540641",
   "metadata": {},
   "outputs": [],
   "source": [
    "# creating a list of numbers from 1 to 100\n",
    "num_list = list(range(1, 101))\n",
    "\n",
    "# creating an empty list to store the numbers whose cubes are divisible by 4 or 5\n",
    "divisible_by_list = []\n",
    "\n",
    "# using a while loop to calculate the cube of each number\n",
    "i = 0\n",
    "while i < len(num_list):\n",
    "    num = num_list[i]\n",
    "    cube = num ** 3\n",
    "    # checking if the cube of the number is divisible by 4 or 5\n",
    "    if cube % 4 == 0 or cube % 5 == 0:\n",
    "        divisible_by_list.append(num)\n",
    "    i += 1\n",
    "\n",
    "# printing the list of numbers whose cubes are divisible by 4 or 5\n",
    "print(\"List of numbers whose cubes are\n"
   ]
  },
  {
   "cell_type": "markdown",
   "id": "ebe2db62-3580-4cc9-8826-cf7014465fe8",
   "metadata": {},
   "source": [
    "Q5. Write a program to filter count vowels in the below-given string.\n",
    "string = \"I want to become a data scientist\""
   ]
  },
  {
   "cell_type": "code",
   "execution_count": 8,
   "id": "951d2942-f959-4507-86a3-6ea24cc5d182",
   "metadata": {},
   "outputs": [
    {
     "name": "stdout",
     "output_type": "stream",
     "text": [
      "12\n"
     ]
    }
   ],
   "source": [
    "string = \"I want to become a data scientist\"\n",
    "vowels=['a','e','i','o','u','A','E','I','O','U']\n",
    "count=0\n",
    "for i in string:\n",
    "    if i in vowels:\n",
    "        count+=1\n",
    "print(count)\n",
    "        "
   ]
  },
  {
   "cell_type": "code",
   "execution_count": null,
   "id": "1e0d9b8c-fb42-4fb4-9d24-52737dbf9ff7",
   "metadata": {},
   "outputs": [],
   "source": []
  }
 ],
 "metadata": {
  "kernelspec": {
   "display_name": "Python 3 (ipykernel)",
   "language": "python",
   "name": "python3"
  },
  "language_info": {
   "codemirror_mode": {
    "name": "ipython",
    "version": 3
   },
   "file_extension": ".py",
   "mimetype": "text/x-python",
   "name": "python",
   "nbconvert_exporter": "python",
   "pygments_lexer": "ipython3",
   "version": "3.10.8"
  }
 },
 "nbformat": 4,
 "nbformat_minor": 5
}
