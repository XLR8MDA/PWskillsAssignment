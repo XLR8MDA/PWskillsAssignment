{
 "cells": [
  {
   "cell_type": "markdown",
   "id": "057e64b1-0140-4491-a5d5-d767608eeff8",
   "metadata": {},
   "source": [
    "Q1. What is an API? Give an example, where an API is used in real life.\n",
    "\n",
    "API stands for Apllication Programming Interface.APIs \n",
    "are set of protocols which enable different software to interact with each other which enables them to work together.\n",
    "The real life example of an API is LinkedAPI which can be used to post updates on linkedin profile without actually logging in. This can be done through a simple python script.\n"
   ]
  },
  {
   "cell_type": "markdown",
   "id": "b9d32875-d280-4ee5-b8ff-2cb8b313754a",
   "metadata": {},
   "source": [
    "Q2. Give advantages and disadvantages of using API.\n",
    "Advantages\n",
    "1.Apis enable developer to reuse code which can save time.\n",
    "2.Apis make different systems work together smoothly and seamlessly.\n",
    "3.Apis can be easily scaled up or down as required to adapt to change in business needs.\n",
    "Disadvantages\n",
    "1.Apis can expose data if integrated with third party developers.\n",
    "2.Many Apis can become complex as their size increase.\n",
    "3.Companies may charge developers to allow them use their services as API."
   ]
  },
  {
   "cell_type": "markdown",
   "id": "182cfc06-3960-4de8-ac0c-254080dc9d25",
   "metadata": {},
   "source": [
    "Q3. What is a Web API? Differentiate between API and Web API.\n",
    "\n",
    "A Web API, are subset of APIs which use HTTPS protocol to communicate between web servers.Web apis are designed to be used by web based applications.\n",
    "\n",
    "APIs use variety of protocols for communication such as TCP/IP, whereas WebAPIs use HTTPS protocol making them accesible over internet."
   ]
  },
  {
   "cell_type": "markdown",
   "id": "b22801db-f0ff-4e39-a7ba-4283c58b9095",
   "metadata": {},
   "source": [
    "Q4. Explain REST and SOAP Architecture. Mention shortcomings of SOAP.\n",
    "\n",
    "REST stands for Representational State Transfer Protocol and SOAP stands for Simple Object Access Protocol.\n",
    "\n",
    "REST architecture depends on https protocol to communicate. These are simple,scalable,flexible and stateless making them popular for building web-based applications and services.\n",
    "\n",
    "SOAP architecture depends on XML-based messaging protocol used for communication and rely on WSDL. SOAP is complex than REST and is often used as enterprise level where security and reliability are important.\n",
    "\n",
    "Limitations of SOAP-\n",
    "1. Complexitiy is more\n",
    "2. Performance may decrease as systems upscale\n",
    "3. Limited support on browser\n",
    "4. Less suitable for certain types of applications"
   ]
  },
  {
   "cell_type": "markdown",
   "id": "e64dc844-a5ba-4953-b38f-960f83ffbdfb",
   "metadata": {},
   "source": [
    "Q5. Differentiate between REST and SOAP.\n",
    "\n",
    "Protocol - REST uses HTTPS as transport protocol, while SOAP uses SMTP protocol.\n",
    "Data Format- Rest uses JSON format whereas soap uses XML\n",
    "Complexity- REST is simple,lightweight and more used by developers. SOAP is more complex and use at enterprise-level.\n",
    "Statelessness- Restful apis are stateless, doesnot depend on older instances, whereas SOAP can be sateful or stateless."
   ]
  }
 ],
 "metadata": {
  "kernelspec": {
   "display_name": "Python 3 (ipykernel)",
   "language": "python",
   "name": "python3"
  },
  "language_info": {
   "codemirror_mode": {
    "name": "ipython",
    "version": 3
   },
   "file_extension": ".py",
   "mimetype": "text/x-python",
   "name": "python",
   "nbconvert_exporter": "python",
   "pygments_lexer": "ipython3",
   "version": "3.10.8"
  }
 },
 "nbformat": 4,
 "nbformat_minor": 5
}
