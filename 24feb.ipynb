{
 "cells": [
  {
   "cell_type": "markdown",
   "id": "6214601c-1139-4f57-a5f9-72525bcb887d",
   "metadata": {},
   "source": [
    "Q1. Here are five common functions of the Pandas library with examples of how to execute them:\n",
    "read_csv(): Used to read data from a CSV file into a Pandas DataFrame.\n",
    "head(): Used to display the first few rows of a Pandas DataFrame.\n",
    "groupby(): Used to group data in a Pandas DataFrame by one or more columns, and then apply a function to the groups.\n",
    "merge(): Used to combine two or more Pandas DataFrames based on a common column.\n",
    "to_csv(): Used to write a Pandas DataFrame to a CSV file."
   ]
  },
  {
   "cell_type": "code",
   "execution_count": null,
   "id": "2c8affc6-d9b5-4cce-960e-5a80ea3dee83",
   "metadata": {},
   "outputs": [],
   "source": [
    "import pandas as pd\n",
    "df = pd.read_csv('my_data.csv')\n",
    "\n",
    "print(df.head())\n",
    "\n",
    "group = df.groupby('Category')\n",
    "group.mean()\n",
    "\n",
    "df1 = pd.DataFrame({'key': ['A', 'B', 'C'], 'value': [1, 2, 3]})\n",
    "df2 = pd.DataFrame({'key': ['B', 'C', 'D'], 'value': [4, 5, 6]})\n",
    "merged = pd.merge(df1, df2, on='key')\n",
    "\n",
    "df.to_csv('my_output.csv', index=False)\n"
   ]
  },
  {
   "cell_type": "markdown",
   "id": "6cb5105d-ee89-41a5-8af1-db6ceb3cbff9",
   "metadata": {},
   "source": [
    "Q2. Given a Pandas DataFrame df with columns 'A', 'B', and 'C', write a Python function to re-index the\n",
    "DataFrame with a new index that starts from 1 and increments by 2 for each row."
   ]
  },
  {
   "cell_type": "code",
   "execution_count": null,
   "id": "5af1c8a6-73b3-477b-ba8e-93624bd1378c",
   "metadata": {},
   "outputs": [],
   "source": [
    "import pandas as pd\n",
    "\n",
    "def reindex_df(df):\n",
    "    # Create a new index starting from 1 and incrementing by 2 for each row\n",
    "    new_index = pd.RangeIndex(start=1, stop=2*len(df), step=2)\n",
    "    \n",
    "    # Set the new index for the DataFrame\n",
    "    df = df.set_index(new_index)\n",
    "    \n",
    "    return df"
   ]
  },
  {
   "cell_type": "markdown",
   "id": "5d227354-6481-499c-9de1-e05915355e9b",
   "metadata": {},
   "source": [
    "Q3. You have a Pandas DataFrame df with a column named 'Values'. Write a Python function that\n",
    "iterates over the DataFrame and calculates the sum of the first three values in the 'Values' column. The\n",
    "function should print the sum to the console."
   ]
  },
  {
   "cell_type": "code",
   "execution_count": 1,
   "id": "d684b61e-a890-443b-b165-93d6d2f17434",
   "metadata": {},
   "outputs": [
    {
     "name": "stdout",
     "output_type": "stream",
     "text": [
      "The sum of the first three values is 60\n"
     ]
    }
   ],
   "source": [
    "import pandas as pd\n",
    "\n",
    "def sum_first_three(df):\n",
    "    # Get the first three values of the 'Values' column\n",
    "    values = df['Values'][:3]\n",
    "    \n",
    "    # Calculate the sum of the first three values\n",
    "    total = sum(values)\n",
    "    \n",
    "    # Print the sum to the console\n",
    "    print(f\"The sum of the first three values is {total}\")\n",
    "    \n",
    "# Create the DataFrame with the 'Values' column\n",
    "df = pd.DataFrame({'Values': [10, 20, 30, 40, 50]})\n",
    "\n",
    "# Call the function to calculate the sum of the first three values\n",
    "sum_first_three(df)\n",
    "\n"
   ]
  },
  {
   "cell_type": "markdown",
   "id": "09a0f450-ac7e-48ec-96cf-cf44e0bb14f2",
   "metadata": {},
   "source": [
    "Q4. Given a Pandas DataFrame df with a column 'Text', write a Python function to create a new column\n",
    "'Word_Count' that contains the number of words in each row of the 'Text' column."
   ]
  },
  {
   "cell_type": "code",
   "execution_count": null,
   "id": "a7b729c0-9fd0-404f-9d62-6c354383e80f",
   "metadata": {},
   "outputs": [],
   "source": [
    "import pandas as pd\n",
    "\n",
    "def add_word_count(df):\n",
    "    # Split the 'Text' column into words and count the number of words in each row\n",
    "    word_counts = df['Text'].str.split().str.len()\n",
    "    \n",
    "    # Add the 'Word_Count' column to the DataFrame\n",
    "    df['Word_Count'] = word_counts\n",
    "    \n",
    "    # Return the updated DataFrame\n",
    "    return df\n"
   ]
  },
  {
   "cell_type": "markdown",
   "id": "e4dbb474-e17b-4b70-b831-f70f01a43f0e",
   "metadata": {},
   "source": [
    "Q5. How are DataFrame.size() and DataFrame.shape() different?\n",
    "DataFrame.size() and DataFrame.shape() are both methods in Pandas that return information about the shape of a DataFrame, but they differ in what information they return.\n",
    "DataFrame.size() returns the total number of elements in the DataFrame, which is equal to the product of the number of rows and columns in the DataFrame.\n",
    "On the other hand, DataFrame.shape() returns a tuple containing the number of rows and columns in the DataFrame, respectively. So the shape method returns the dimensions of the DataFrame."
   ]
  },
  {
   "cell_type": "markdown",
   "id": "7a11dc43-5445-4f4c-a804-2c2134c3fa23",
   "metadata": {},
   "source": [
    "Q6. Which function of pandas do we use to read an excel file?\n",
    "To read an Excel file in Pandas, you can use the read_excel() function. This function is part of the pandas library and allows you to read Excel files into a DataFrame object."
   ]
  },
  {
   "cell_type": "code",
   "execution_count": null,
   "id": "0a39f3a3-109a-48e7-9018-bb261de70750",
   "metadata": {},
   "outputs": [],
   "source": [
    "import pandas as pd\n",
    "\n",
    "# Read an Excel file into a DataFrame\n",
    "df = pd.read_excel('filename.xlsx')\n",
    "\n",
    "# Print the DataFrame\n",
    "print(df)\n"
   ]
  },
  {
   "cell_type": "markdown",
   "id": "b2e27b60-0c77-4a8f-a2eb-ab01d8901bc9",
   "metadata": {},
   "source": [
    "Q7. You have a Pandas DataFrame df that contains a column named 'Email' that contains email\n",
    "addresses in the format 'username@domain.com'. Write a Python function that creates a new column\n",
    "'Username' in df that contains only the username part of each email address."
   ]
  },
  {
   "cell_type": "code",
   "execution_count": 2,
   "id": "c9070a9c-595a-4bd0-a1fa-d589630a769b",
   "metadata": {},
   "outputs": [
    {
     "name": "stdout",
     "output_type": "stream",
     "text": [
      "                     Email     Username\n",
      "0     john.doe@example.com     john.doe\n",
      "1   jane.smith@example.com   jane.smith\n",
      "2  bob.johnson@example.com  bob.johnson\n"
     ]
    }
   ],
   "source": [
    "import pandas as pd\n",
    "\n",
    "# Create a DataFrame with an 'Email' column\n",
    "df = pd.DataFrame({'Email': ['john.doe@example.com', 'jane.smith@example.com', 'bob.johnson@example.com']})\n",
    "\n",
    "# Extract the username from the 'Email' column using the 'str' accessor and 'split()' method\n",
    "df['Username'] = df['Email'].str.split('@').str[0]\n",
    "\n",
    "# Print the DataFrame\n",
    "print(df)\n"
   ]
  },
  {
   "cell_type": "markdown",
   "id": "1bf296ec-d7cf-4b8e-acd0-043675f83763",
   "metadata": {},
   "source": [
    "Q8. You have a Pandas DataFrame df with columns 'A', 'B', and 'C'. Write a Python function that selects\n",
    "all rows where the value in column 'A' is greater than 5 and the value in column 'B' is less than 10. The\n",
    "function should return a new DataFrame that contains only the selected rows.\n",
    "For example, if df contains the following values:\n",
    "A B C\n",
    "0 3 5 1\n",
    "1 8 2 7\n",
    "2 6 9 4\n",
    "3 2 3 5\n",
    "4 9 1 2"
   ]
  },
  {
   "cell_type": "code",
   "execution_count": 6,
   "id": "213ad88f-7cfa-4e2c-b13f-6b174cbcd6eb",
   "metadata": {},
   "outputs": [
    {
     "name": "stdout",
     "output_type": "stream",
     "text": [
      "   A  B  C\n",
      "1  8  2  7\n",
      "2  6  9  4\n",
      "4  9  1  2\n"
     ]
    }
   ],
   "source": [
    "import pandas as pd\n",
    "\n",
    "def select_rows(df):\n",
    "    # Select rows where column 'A' is greater than 5 and column 'B' is less than 10\n",
    "    selected_rows = df[(df['A'] > 5) & (df['B'] < 10)]\n",
    "    # Return the new DataFrame with only the selected rows\n",
    "    return selected_rows\n",
    "\n",
    "# create the DataFrame\n",
    "df = pd.DataFrame({'A': [3, 8, 6, 2, 9],\n",
    "                   'B': [5, 2, 9, 3, 1],\n",
    "                   'C': [1, 7, 4, 5, 2]})\n",
    "\n",
    "# call the function to select rows\n",
    "selected_df = select_rows(df)\n",
    "\n",
    "# print the selected rows\n",
    "print(selected_df)\n"
   ]
  },
  {
   "cell_type": "markdown",
   "id": "18d72a52-34c8-4dca-932a-e5fe639474c8",
   "metadata": {},
   "source": [
    "Q9. Given a Pandas DataFrame df with a column 'Values', write a Python function to calculate the mean,\n",
    "median, and standard deviation of the values in the 'Values' column."
   ]
  },
  {
   "cell_type": "code",
   "execution_count": null,
   "id": "25fb8f86-fb87-4f02-925f-662bec2135ea",
   "metadata": {},
   "outputs": [],
   "source": [
    "import pandas as pd\n",
    "\n",
    "def calculate_statistics(df):\n",
    "    # Calculate mean, median, and standard deviation of 'Values' column\n",
    "    mean = df['Values'].mean()\n",
    "    median = df['Values'].median()\n",
    "    std = df['Values'].std()\n",
    "    # Return a dictionary with the calculated statistics\n",
    "    return {'mean': mean, 'median': median, 'std': std}\n",
    "\n",
    "statistics = calculate_statistics(df)\n",
    "print(\"Mean: \", statistics['mean'])\n",
    "print(\"Median: \", statistics['median'])\n",
    "print(\"Standard Deviation: \", statistics['std'])\n"
   ]
  },
  {
   "cell_type": "markdown",
   "id": "def66e9d-8dc7-4cd7-a004-91344853e38e",
   "metadata": {},
   "source": [
    "Q10. Given a Pandas DataFrame df with a column 'Sales' and a column 'Date', write a Python function to\n",
    "create a new column 'MovingAverage' that contains the moving average of the sales for the past 7 days\n",
    "for each row in the DataFrame. The moving average should be calculated using a window of size 7 and\n",
    "should include the current day."
   ]
  },
  {
   "cell_type": "code",
   "execution_count": 8,
   "id": "59d56b90-0e5b-4f6c-82c4-d334afa8f257",
   "metadata": {},
   "outputs": [
    {
     "name": "stdout",
     "output_type": "stream",
     "text": [
      "0    10.0\n",
      "1    12.5\n",
      "2    15.0\n",
      "3    17.5\n",
      "4    20.0\n",
      "5    22.5\n",
      "6    25.0\n",
      "7    30.0\n",
      "8    35.0\n",
      "9    40.0\n",
      "Name: MovingAverage, dtype: float64\n"
     ]
    }
   ],
   "source": [
    "import pandas as pd\n",
    "\n",
    "def add_moving_average(df):\n",
    "    # Create a new column 'MovingAverage' that contains the moving average of 'Sales'\n",
    "    df['MovingAverage'] = df['Sales'].rolling(window=7, min_periods=1).mean()\n",
    "    # Return the modified DataFrame\n",
    "    return df\n",
    "df = pd.DataFrame({'Date': pd.date_range('2022-01-01', '2022-01-10'),\n",
    "                   'Sales': [10, 15, 20, 25, 30, 35, 40, 45, 50, 55]})\n",
    "df_with_ma = add_moving_average(df)\n",
    "print(df_with_ma['MovingAverage'])\n"
   ]
  },
  {
   "cell_type": "markdown",
   "id": "b4df6b78-3628-4efb-8778-06bd454e459a",
   "metadata": {},
   "source": [
    "Q11. You have a Pandas DataFrame df with a column 'Date'. Write a Python function that creates a new\n",
    "column 'Weekday' in the DataFrame. The 'Weekday' column should contain the weekday name (e.g.\n",
    "Monday, Tuesday) corresponding to each date in the 'Date' column.\n",
    "For example, if df contains the following values:\n",
    "Date\n",
    "0 2023-01-01\n",
    "1 2023-01-02\n",
    "2 2023-01-03\n",
    "3 2023-01-04\n",
    "4 2023-01-05\n",
    "Your function should create the following DataFrame:\n",
    "\n",
    "Date Weekday\n",
    "0 2023-01-01 Sunday\n",
    "1 2023-01-02 Monday\n",
    "2 2023-01-03 Tuesday\n",
    "3 2023-01-04 Wednesday\n",
    "4 2023-01-05 Thursday\n",
    "The function should return the modified DataFrame."
   ]
  },
  {
   "cell_type": "code",
   "execution_count": 9,
   "id": "0050261d-00f5-4871-a186-b84dba42cd74",
   "metadata": {},
   "outputs": [
    {
     "name": "stdout",
     "output_type": "stream",
     "text": [
      "0       Sunday\n",
      "1       Monday\n",
      "2      Tuesday\n",
      "3    Wednesday\n",
      "4     Thursday\n",
      "Name: Weekday, dtype: object\n"
     ]
    }
   ],
   "source": [
    "import pandas as pd\n",
    "\n",
    "def add_weekday(df):\n",
    "    # Convert the 'Date' column to a datetime datatype if it is not already\n",
    "    df['Date'] = pd.to_datetime(df['Date'])\n",
    "    # Create a new column 'Weekday' that contains the weekday name\n",
    "    df['Weekday'] = df['Date'].dt.day_name()\n",
    "    # Return the modified DataFrame\n",
    "    return df\n",
    "df = pd.DataFrame({'Date': ['2023-01-01', '2023-01-02', '2023-01-03', '2023-01-04', '2023-01-05']})\n",
    "df_with_weekday = add_weekday(df)\n",
    "print(df_with_weekday['Weekday'])\n"
   ]
  },
  {
   "cell_type": "markdown",
   "id": "900a8201-985e-4ec0-929e-cf465bd69407",
   "metadata": {},
   "source": [
    "Q12. Given a Pandas DataFrame df with a column 'Date' that contains timestamps, write a Python\n",
    "function to select all rows where the date is between '2023-01-01' and '2023-01-31'."
   ]
  },
  {
   "cell_type": "code",
   "execution_count": 10,
   "id": "64d13b42-f5b3-453b-b6c2-71094decc80a",
   "metadata": {},
   "outputs": [
    {
     "name": "stdout",
     "output_type": "stream",
     "text": [
      "        Date\n",
      "0 2023-01-01\n",
      "1 2023-01-02\n",
      "2 2023-01-03\n",
      "3 2023-01-04\n",
      "4 2023-01-05\n"
     ]
    }
   ],
   "source": [
    "import pandas as pd\n",
    "\n",
    "def select_date_range(df):\n",
    "    # Convert the 'Date' column to a datetime datatype if it is not already\n",
    "    df['Date'] = pd.to_datetime(df['Date'])\n",
    "    # Select all rows where the date is between '2023-01-01' and '2023-01-31'\n",
    "    mask = (df['Date'] >= '2023-01-01') & (df['Date'] <= '2023-01-31')\n",
    "    selected_rows = df.loc[mask]\n",
    "    # Return the selected rows DataFrame\n",
    "    return selected_rows\n",
    "df = pd.DataFrame({'Date': ['2023-01-01', '2023-01-02', '2023-01-03', '2023-01-04', '2023-01-05']})\n",
    "selected_rows = select_date_range(df)\n",
    "print(selected_rows)\n"
   ]
  },
  {
   "cell_type": "markdown",
   "id": "01ff2765-ded8-43b9-b3b3-fe335e66d5f2",
   "metadata": {},
   "source": [
    "Q13. To use the basic functions of pandas, what is the first and foremost necessary library that needs to\n",
    "be imported?"
   ]
  },
  {
   "cell_type": "code",
   "execution_count": null,
   "id": "555ca422-bc9b-448a-8c21-93722e595ccd",
   "metadata": {},
   "outputs": [],
   "source": [
    "The first and foremost necessary library that needs to be imported to use the basic functions of Pandas is pandas itself.\n",
    "\n",
    "You can import the Pandas library with the following statement:\n",
    "\n",
    "import pandas as pd"
   ]
  }
 ],
 "metadata": {
  "kernelspec": {
   "display_name": "Python 3 (ipykernel)",
   "language": "python",
   "name": "python3"
  },
  "language_info": {
   "codemirror_mode": {
    "name": "ipython",
    "version": 3
   },
   "file_extension": ".py",
   "mimetype": "text/x-python",
   "name": "python",
   "nbconvert_exporter": "python",
   "pygments_lexer": "ipython3",
   "version": "3.10.8"
  }
 },
 "nbformat": 4,
 "nbformat_minor": 5
}
