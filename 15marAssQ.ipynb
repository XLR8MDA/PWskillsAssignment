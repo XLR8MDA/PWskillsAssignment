{
 "cells": [
  {
   "attachments": {},
   "cell_type": "markdown",
   "metadata": {},
   "source": [
    "Q1. Explain the following with an example\n",
    "I) Artificial Intelligence\n",
    "Artificial Intelligence (AI) refers to the development of computer systems that can perform tasks that normally require human intelligence, such as visual perception, speech recognition, decision-making, and language translation. Example - Chess Bots\n",
    "II) Machine Learning\n",
    "Machine Learning (ML) is a subset of AI that involves training a computer system to learn from data, without being explicitly programmed. This allows the system to improve its performance over time and make predictions or decisions based on the patterns it has learned. Example- Investment Predictor\n",
    "III) Deep Learning\n",
    "Deep Learning (DL) is a subset of machine learning that uses artificial neural networks with many layers to model complex patterns in data. \n",
    "Example- Self Driving Cars"
   ]
  },
  {
   "attachments": {},
   "cell_type": "markdown",
   "metadata": {},
   "source": [
    "Q2- What is supervised learning? List some example of supervised learning.\n",
    "Supervised learning is a type of machine learning where a model is trained on a labeled dataset, where the inputs and the corresponding desired outputs are provided. The goal of supervised learning is to learn a function that can accurately map input variables to their corresponding output variables."
   ]
  },
  {
   "attachments": {},
   "cell_type": "markdown",
   "metadata": {},
   "source": [
    "Q3- What is unsupervised learning? List some examples of unsupervised learning?\n",
    "Unsupervised learning is a type of machine learning where the model is trained on an unlabeled dataset. Unlike supervised learning, there are no predefined output variables, and the algorithm must discover the underlying structure or patterns within the data."
   ]
  },
  {
   "attachments": {},
   "cell_type": "markdown",
   "metadata": {},
   "source": [
    "\n",
    "Q4 - Difference between AI, ML, DL, and DS:\n",
    "\n",
    "AI (Artificial Intelligence) refers to the development of intelligent systems that can perform tasks that usually require human intelligence, such as perception, reasoning, learning, and decision making.\n",
    "ML (Machine Learning) is a subset of AI that involves the development of algorithms and statistical models that enable systems to learn from data and make predictions or decisions based on that learning.\n",
    "DL (Deep Learning) is a subset of machine learning that uses deep neural networks to learn from large amounts of data. Deep learning is particularly useful for processing complex data types, such as images, speech, and natural language.\n",
    "DS (Data Science) is an interdisciplinary field that involves the use of various techniques, including statistics, machine learning, and data visualization, to extract insights from data."
   ]
  },
  {
   "attachments": {},
   "cell_type": "markdown",
   "metadata": {},
   "source": [
    "Q5 - Main difference between supervised, unsupervised, and semi-supervised learning:\n",
    "\n",
    "Supervised learning involves training a model using labeled data, where the correct outputs are known. The goal is to learn a mapping function from input variables to output variables.\n",
    "\n",
    "Unsupervised learning involves training a model using unlabeled data, where there are no predefined output variables. The goal is to discover patterns or relationships within the data.\n",
    "\n",
    "Semi-supervised learning is a combination of supervised and unsupervised learning, where the model is trained using a mix of labeled and unlabeled data. The goal is to leverage the labeled data to improve the performance of the model on the unlabeled data.\n"
   ]
  },
  {
   "attachments": {},
   "cell_type": "markdown",
   "metadata": {},
   "source": [
    "Q6- What is train, test and validation split? Explain the importance of each twrm.\n",
    "\n",
    "Training set: The training set is used to train the model to make predictions. It is important to have a large and diverse training set to ensure that the model can learn from a variety of data.\n",
    "Validation set: The validation set is used to tune the hyperparameters of the model, such as the learning rate or regularization parameters, to improve its performance. It is important to have a validation set to prevent overfitting, where the model becomes too complex and performs well on the training set but poorly on unseen data.\n",
    "Test set: The test set is used to evaluate the performance of the model on unseen data. It is important to have a test set to ensure that the model can generalize to new data and to provide an unbiased estimate of the model's performance."
   ]
  },
  {
   "attachments": {},
   "cell_type": "markdown",
   "metadata": {},
   "source": [
    "Q7- How can unsupervised learning be used in anomaly detection?\n",
    "\n",
    "Unsupervised learning can be used for anomaly detection by identifying patterns or clusters within the data and detecting any data points that fall outside of those patterns or clusters. One common approach is to use clustering algorithms, such as k-means or DBSCAN, to group similar data points together. Any data point that does not fit into any cluster or belongs to a small or sparse cluster can be flagged as an anomaly.\n",
    "\n",
    "Another approach is to use dimensionality reduction techniques, such as principal component analysis (PCA) or t-distributed stochastic neighbor embedding (t-SNE), to reduce the dimensionality of the data while preserving its structure. Any data point that has a large distance from the rest of the data points in the reduced space can be considered an anomaly.\n"
   ]
  },
  {
   "attachments": {},
   "cell_type": "markdown",
   "metadata": {},
   "source": [
    "\n",
    "Q8- List down some commonly used supervised learning algorithms and unsupervised learning algorithms.\n",
    "\n",
    "Commonly used supervised learning algorithms:\n",
    "Linear regression\n",
    "Logistic regression\n",
    "Decision tree\n",
    "Random forest\n",
    "Support vector machine (SVM)\n",
    "Naive Bayes\n",
    "K-nearest neighbors (KNN)\n",
    "Neural networks\n",
    "\n",
    "Commonly used unsupervised learning algorithms:\n",
    "K-means clustering\n",
    "DBSCAN clustering\n",
    "Hierarchical clustering\n"
   ]
  }
 ],
 "metadata": {
  "language_info": {
   "name": "python"
  },
  "orig_nbformat": 4
 },
 "nbformat": 4,
 "nbformat_minor": 2
}
