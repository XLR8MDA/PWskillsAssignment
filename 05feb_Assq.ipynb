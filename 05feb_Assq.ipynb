{
 "cells": [
  {
   "attachments": {},
   "cell_type": "markdown",
   "metadata": {},
   "source": [
    "Q1. Explain Class and Object with respect to Object-Oriented Programming. Give a suitable example.\n",
    "In object-oriented programming (OOP), a class is a blueprint or template for creating objects, while an object is an instance of a class.\n",
    "A class defines the common attributes (data) and behaviors (methods) that objects of that class will have. It provides a blueprint for creating multiple objects with similar characteristics.\n",
    "An object, on the other hand, is a specific instance of a class. It represents a unique entity that has its own set of attribute values and can perform actions defined by the class."
   ]
  },
  {
   "cell_type": "code",
   "execution_count": 1,
   "metadata": {},
   "outputs": [
    {
     "name": "stdout",
     "output_type": "stream",
     "text": [
      "Red\n",
      "Engine started.\n"
     ]
    }
   ],
   "source": [
    "# Class definition\n",
    "class Car:\n",
    "    def __init__(self, color, brand, model):\n",
    "        self.color = color\n",
    "        self.brand = brand\n",
    "        self.model = model\n",
    "    \n",
    "    def start_engine(self):\n",
    "        print(\"Engine started.\")\n",
    "\n",
    "# Object creation\n",
    "my_car = Car(\"Red\", \"Toyota\", \"Corolla\")\n",
    "\n",
    "# Accessing object attributes\n",
    "print(my_car.color)  # Output: Red\n",
    "\n",
    "# Calling object methods\n",
    "my_car.start_engine()  # Output: Engine started.\n"
   ]
  },
  {
   "attachments": {},
   "cell_type": "markdown",
   "metadata": {},
   "source": [
    "Q2. Name the four pillars of OOPs.\n",
    "Encapsulation: Encapsulation is the practice of bundling data and methods that operate on that data within a single unit (class). It hides the internal details of an object and provides public interfaces to interact with it. Encapsulation helps in achieving data abstraction and information hiding.\n",
    "\n",
    "Inheritance: Inheritance allows the creation of new classes (derived classes) based on existing classes (base or parent classes). It enables the derived classes to inherit the attributes and behaviors of the base class. Inheritance promotes code reuse and supports the concept of the \"is-a\" relationship.\n",
    "\n",
    "Polymorphism: Polymorphism allows objects of different classes to be treated as objects of a common base class. It enables the same method to be used with objects of different classes, providing flexibility and extensibility. Polymorphism is achieved through method overriding and method overloading.\n",
    "\n",
    "Abstraction: Abstraction involves representing complex real-world entities as simplified models within a program. It focuses on the essential characteristics of an object, ignoring the irrelevant details. Abstraction helps in managing complexity, enhances code readability, and allows for easier maintenance and modification."
   ]
  },
  {
   "attachments": {},
   "cell_type": "markdown",
   "metadata": {},
   "source": [
    "Q3. Explain why the __init__() function is used. Give a suitable example.\n",
    "The __init__() function is used as a constructor in Python classes. It is automatically called when an object of a class is created. The purpose of the __init__() function is to initialize the attributes of the object.\n",
    "\n",
    "By defining the __init__() method, you can ensure that certain attributes are assigned initial values when an object is created. This provides a convenient way to set up the initial state of the object."
   ]
  },
  {
   "cell_type": "code",
   "execution_count": 2,
   "metadata": {},
   "outputs": [
    {
     "name": "stdout",
     "output_type": "stream",
     "text": [
      "John\n",
      "25\n",
      "Hi, my name is John and I am 25 years old.\n"
     ]
    }
   ],
   "source": [
    "class Person:\n",
    "    def __init__(self, name, age):\n",
    "        self.name = name\n",
    "        self.age = age\n",
    "\n",
    "    def introduce(self):\n",
    "        print(f\"Hi, my name is {self.name} and I am {self.age} years old.\")\n",
    "\n",
    "# Create an object and initialize its attributes\n",
    "person1 = Person(\"John\", 25)\n",
    "\n",
    "# Access the attributes\n",
    "print(person1.name)  # Output: John\n",
    "print(person1.age)   # Output: 25\n",
    "\n",
    "# Call a method on the object\n",
    "person1.introduce()  # Output: Hi, my name is John and I am 25 years old.\n"
   ]
  },
  {
   "attachments": {},
   "cell_type": "markdown",
   "metadata": {},
   "source": [
    "Q4. Why self is used in OOPs?\n",
    "In object-oriented programming (OOP), the self parameter is used to refer to the instance of a class. It is a convention in Python to use self as the first parameter of instance methods.\n",
    "The self parameter allows instance methods to access and modify the attributes and methods of the object to which they belong. It acts as a reference to the instance itself.\n",
    "When you call an instance method on an object, you don't need to explicitly pass the self argument. Python automatically binds the method call to the instance."
   ]
  },
  {
   "attachments": {},
   "cell_type": "markdown",
   "metadata": {},
   "source": [
    "Q5. What is inheritance? Give an example for each type of inheritance.\n",
    "Inheritance is a key concept in object-oriented programming (OOP) that allows the creation of new classes (derived or child classes) based on existing classes (base or parent classes). It enables the derived classes to inherit the attributes and behaviors of the base class, promoting code reuse and supporting the concept of the \"is-a\" relationship.\n",
    "\n",
    "There are different types of inheritance:\n",
    "\n",
    "1.Single inheritance\n",
    "2.Multiple inheritance\n",
    "3.Multi-level inheritance\n",
    "4.Hierarchical inheritance"
   ]
  },
  {
   "cell_type": "code",
   "execution_count": 4,
   "metadata": {},
   "outputs": [
    {
     "name": "stdout",
     "output_type": "stream",
     "text": [
      "Making sound.\n",
      "Barking.\n",
      "Method A.\n",
      "Method B.\n",
      "Method C.\n",
      "Vehicle started.\n",
      "Car accelerating.\n",
      "Sports car boosting.\n",
      "Drawing circle.\n",
      "Drawing rectangle.\n"
     ]
    }
   ],
   "source": [
    "#single inheritance\n",
    "class Animal:\n",
    "    def sound(self):\n",
    "        print(\"Making sound.\")\n",
    "\n",
    "class Dog(Animal):\n",
    "    def bark(self):\n",
    "        print(\"Barking.\")\n",
    "\n",
    "my_dog = Dog()\n",
    "my_dog.sound()  # Output: Making sound.\n",
    "my_dog.bark()   # Output: Barking.\n",
    "\n",
    "\n",
    "#multiple inheritance\n",
    "class A:\n",
    "    def method_A(self):\n",
    "        print(\"Method A.\")\n",
    "\n",
    "class B:\n",
    "    def method_B(self):\n",
    "        print(\"Method B.\")\n",
    "\n",
    "class C(A, B):\n",
    "    def method_C(self):\n",
    "        print(\"Method C.\")\n",
    "\n",
    "my_object = C()\n",
    "my_object.method_A()  # Output: Method A.\n",
    "my_object.method_B()  # Output: Method B.\n",
    "my_object.method_C()  # Output: Method C.\n",
    "\n",
    "\n",
    "#multi-level inheritance\n",
    "class Vehicle:\n",
    "    def start(self):\n",
    "        print(\"Vehicle started.\")\n",
    "\n",
    "class Car(Vehicle):\n",
    "    def accelerate(self):\n",
    "        print(\"Car accelerating.\")\n",
    "\n",
    "class SportsCar(Car):\n",
    "    def boost(self):\n",
    "        print(\"Sports car boosting.\")\n",
    "\n",
    "my_car = SportsCar()\n",
    "my_car.start()      # Output: Vehicle started.\n",
    "my_car.accelerate() # Output: Car accelerating.\n",
    "my_car.boost()      # Output: Sports car boosting.\n",
    "\n",
    "\n",
    "#Hierarchical inheritance\n",
    "class Shape:\n",
    "    def draw(self):\n",
    "        print(\"Drawing shape.\")\n",
    "\n",
    "class Circle(Shape):\n",
    "    def draw(self):\n",
    "        print(\"Drawing circle.\")\n",
    "\n",
    "class Rectangle(Shape):\n",
    "    def draw(self):\n",
    "        print(\"Drawing rectangle.\")\n",
    "\n",
    "circle = Circle()\n",
    "circle.draw()  # Output: Drawing circle.\n",
    "\n",
    "rectangle = Rectangle()\n",
    "rectangle.draw()  # Output: Drawing rectangle.\n",
    "\n"
   ]
  },
  {
   "cell_type": "code",
   "execution_count": null,
   "metadata": {},
   "outputs": [],
   "source": []
  }
 ],
 "metadata": {
  "kernelspec": {
   "display_name": "Python 3",
   "language": "python",
   "name": "python3"
  },
  "language_info": {
   "codemirror_mode": {
    "name": "ipython",
    "version": 3
   },
   "file_extension": ".py",
   "mimetype": "text/x-python",
   "name": "python",
   "nbconvert_exporter": "python",
   "pygments_lexer": "ipython3",
   "version": "3.11.2"
  },
  "orig_nbformat": 4
 },
 "nbformat": 4,
 "nbformat_minor": 2
}
