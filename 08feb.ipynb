{
 "cells": [
  {
   "attachments": {},
   "cell_type": "markdown",
   "metadata": {},
   "source": [
    "Q1. What is Abstraction in OOps? Explain with an example.\n",
    "Abstraction in OOP refers to the process of representing complex real-world entities as simplified models within a program. It involves focusing on the essential characteristics of an object and ignoring the irrelevant details. Abstraction allows us to manage complexity, enhance code readability, and provide a higher level of understanding."
   ]
  },
  {
   "cell_type": "code",
   "execution_count": 1,
   "metadata": {},
   "outputs": [
    {
     "name": "stdout",
     "output_type": "stream",
     "text": [
      "Toyota started.\n",
      "Honda started.\n"
     ]
    }
   ],
   "source": [
    "from abc import ABC, abstractmethod\n",
    "\n",
    "class Vehicle(ABC):\n",
    "    def __init__(self, name):\n",
    "        self.name = name\n",
    "\n",
    "    @abstractmethod\n",
    "    def start(self):\n",
    "        pass\n",
    "\n",
    "class Car(Vehicle):\n",
    "    def start(self):\n",
    "        print(f\"{self.name} started.\")\n",
    "\n",
    "class Bike(Vehicle):\n",
    "    def start(self):\n",
    "        print(f\"{self.name} started.\")\n",
    "\n",
    "car = Car(\"Toyota\")\n",
    "car.start()  # Output: Toyota started.\n",
    "\n",
    "bike = Bike(\"Honda\")\n",
    "bike.start()  # Output: Honda started.\n"
   ]
  },
  {
   "attachments": {},
   "cell_type": "markdown",
   "metadata": {},
   "source": [
    "Q2. Differentiate between Abstraction and Encapsulation. Explain with an example.\n",
    "Abstraction focuses on representing complex entities as simplified models, emphasizing the essential characteristics and ignoring the implementation details. It allows us to manage complexity and provide a higher level of understanding. Abstraction is achieved through abstract classes, interfaces, and hiding unnecessary details.\n",
    "\n",
    "Encapsulation, on the other hand, is about bundling data and methods that operate on that data within a single unit (class). It hides the internal details of an object and provides public interfaces to interact with it. Encapsulation helps in achieving data abstraction and information hiding."
   ]
  },
  {
   "cell_type": "code",
   "execution_count": 2,
   "metadata": {},
   "outputs": [
    {
     "name": "stdout",
     "output_type": "stream",
     "text": [
      "Bark!\n",
      "Meow!\n",
      "Driving Toyota Corolla.\n"
     ]
    }
   ],
   "source": [
    "# Abstraction example\n",
    "from abc import ABC, abstractmethod\n",
    "\n",
    "class Animal(ABC):\n",
    "    @abstractmethod\n",
    "    def make_sound(self):\n",
    "        pass\n",
    "\n",
    "class Dog(Animal):\n",
    "    def make_sound(self):\n",
    "        print(\"Bark!\")\n",
    "\n",
    "class Cat(Animal):\n",
    "    def make_sound(self):\n",
    "        print(\"Meow!\")\n",
    "\n",
    "dog = Dog()\n",
    "dog.make_sound()  # Output: Bark!\n",
    "\n",
    "cat = Cat()\n",
    "cat.make_sound()  # Output: Meow!\n",
    "\n",
    "# Encapsulation example\n",
    "class Car:\n",
    "    def __init__(self, brand, model):\n",
    "        self.brand = brand\n",
    "        self.model = model\n",
    "\n",
    "    def drive(self):\n",
    "        print(f\"Driving {self.brand} {self.model}.\")\n",
    "\n",
    "my_car = Car(\"Toyota\", \"Corolla\")\n",
    "my_car.drive()  # Output: Driving Toyota Corolla.\n"
   ]
  },
  {
   "attachments": {},
   "cell_type": "markdown",
   "metadata": {},
   "source": [
    "Q3. What is abc module in python? Why is it used?\n",
    "The abc module in Python stands for \"Abstract Base Classes.\" It provides infrastructure for defining abstract base classes in Python. An abstract base class (ABC) is a class that cannot be instantiated and is meant to be subclassed.\n",
    "\n",
    "The abc module provides the ABC class as a metaclass for defining abstract base classes. It also provides the abstractmethod decorator for declaring abstract methods within abstract classes. An abstract method is a method that is declared but not implemented in the abstract class. Its implementation is left to the derived classes.\n"
   ]
  },
  {
   "attachments": {},
   "cell_type": "markdown",
   "metadata": {},
   "source": [
    "Q4. How can we achieve data abstraction?\n",
    "Data abstraction can be achieved in Python by using abstract classes and abstract methods. Abstract classes are classes that cannot be instantiated and are meant to be subclassed. They provide a way to define the common interface and behavior that derived classes must adhere to.\n",
    "\n",
    "To achieve data abstraction:\n",
    "\n",
    "1.Define an abstract base class using the abc module and inherit from the ABC class.\n",
    "2.Declare abstract methods within the abstract base class using the abstractmethod decorator.\n",
    "3.Implement the abstract methods in the derived classes."
   ]
  },
  {
   "attachments": {},
   "cell_type": "markdown",
   "metadata": {},
   "source": [
    "Q5. Can we create an instance of an abstract class? Explain your answer.\n",
    "No, we cannot create an instance of an abstract class in Python. An abstract class is a class that cannot be instantiated and is meant to be subclassed. It serves as a blueprint for derived classes and provides a common interface or structure that derived classes must adhere to.\n",
    "The purpose of an abstract class is to define a common interface and specify the contract that derived classes must fulfill by providing implementations for the abstract methods. Abstract classes are meant to be extended and used as base classes for creating concrete (non-abstract) classes."
   ]
  }
 ],
 "metadata": {
  "kernelspec": {
   "display_name": "Python 3",
   "language": "python",
   "name": "python3"
  },
  "language_info": {
   "codemirror_mode": {
    "name": "ipython",
    "version": 3
   },
   "file_extension": ".py",
   "mimetype": "text/x-python",
   "name": "python",
   "nbconvert_exporter": "python",
   "pygments_lexer": "ipython3",
   "version": "3.11.2"
  },
  "orig_nbformat": 4
 },
 "nbformat": 4,
 "nbformat_minor": 2
}
