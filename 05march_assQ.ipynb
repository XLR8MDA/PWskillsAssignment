{
 "cells": [
  {
   "attachments": {},
   "cell_type": "markdown",
   "metadata": {},
   "source": [
    "Q1. How can you create a Bokeh plot using Python code?\n"
   ]
  },
  {
   "cell_type": "code",
   "execution_count": null,
   "metadata": {},
   "outputs": [],
   "source": [
    "from bokeh.plotting import figure, show\n",
    "import numpy as np\n",
    "\n",
    "# Define the data to be plotted\n",
    "x = np.linspace(0, 10, 100)\n",
    "y = np.sin(x)\n",
    "\n",
    "# Create a figure object\n",
    "fig = figure(title=\"Sine Curve\", x_axis_label=\"X\", y_axis_label=\"Y\")\n",
    "\n",
    "# Add a line glyph to the figure\n",
    "fig.line(x, y)\n",
    "\n",
    "# Display the plot in a web browser\n",
    "show(fig)\n"
   ]
  },
  {
   "attachments": {},
   "cell_type": "markdown",
   "metadata": {},
   "source": [
    "Q2. What are glyphs in Bokeh, and how can you add them to a Bokeh plot? Explain with an example.\n",
    "Glyphs are the basic visual building blocks in Bokeh. They are geometric shapes such as circles, lines, rectangles, and text that are used to represent data in a plot. To add glyphs to a Bokeh plot, you can use the various glyph functions available in Bokeh.\n"
   ]
  },
  {
   "cell_type": "code",
   "execution_count": null,
   "metadata": {},
   "outputs": [],
   "source": [
    "from bokeh.plotting import figure, show\n",
    "\n",
    "# Define the data to be plotted\n",
    "x = [1, 2, 3, 4, 5]\n",
    "y = [2, 5, 3, 7, 1]\n",
    "\n",
    "# Create a figure object\n",
    "fig = figure(title=\"Circle Glyph Example\", x_axis_label=\"X\", y_axis_label=\"Y\")\n",
    "\n",
    "# Add a circle glyph to the figure\n",
    "fig.circle(x, y, size=10, color=\"red\")\n",
    "\n",
    "# Display the plot in a web browser\n",
    "show(fig)\n"
   ]
  },
  {
   "attachments": {},
   "cell_type": "markdown",
   "metadata": {},
   "source": [
    "Q3. How can you customize the appearance of a Bokeh plot, including the axes, title, and legend?\n",
    "Bokeh provides various ways to customize the appearance of a plot. Here are some examples of how to customize the axes, title, and legend:\n"
   ]
  },
  {
   "cell_type": "code",
   "execution_count": null,
   "metadata": {},
   "outputs": [],
   "source": [
    "fig = figure(title=\"Customize Axes Example\", x_axis_label=\"X Label\", x_range=(0, 10))\n",
    "fig = figure(title=\"Title Example\")\n",
    "fig.circle(x, y, size=10, color=\"red\", legend_label=\"Data Points\")\n",
    "fig.legend.location = \"top_left\""
   ]
  },
  {
   "attachments": {},
   "cell_type": "markdown",
   "metadata": {},
   "source": [
    "Q4. What is a Bokeh server, and how can you use it to create interactive plots that can be updated in\n",
    "real time?\n",
    "A Bokeh server is a Python application that allows you to create and deploy interactive Bokeh plots that can be updated in real-time. It provides a web-based interface for users to interact with the plots, such as panning and zooming. To use a Bokeh server, you can follow these steps:\n",
    "\n",
    "1.Define the data and the plot as you would normally in Bokeh.\n",
    "2.Import the necessary modules from Bokeh and the Tornado web server.\n",
    "3.Create a function to define the behavior of the plot based on user input.\n",
    "4.Create a Bokeh server application using the \"curdoc\" function.\n",
    "5.Add the plot to the application and define the server behavior using the \"on_session_created\" function."
   ]
  },
  {
   "cell_type": "code",
   "execution_count": null,
   "metadata": {},
   "outputs": [],
   "source": [
    "from bokeh.plotting import figure\n",
    "from bokeh.server.server import Server\n",
    "from tornado.ioloop import IOLoop\n",
    "\n",
    "# Define the data and the plot\n",
    "x = [1, 2, 3, 4, 5]\n",
    "y = [2, 5, 3, 7, 1]\n",
    "fig = figure(title=\"Bokeh Server Example\", x_axis_label=\"X\", y_axis_label=\"Y\")\n",
    "fig.line(x, y)\n",
    "\n",
    "# Define the behavior of the plot\n",
    "def modify_doc(doc):\n",
    "    pass\n",
    "\n",
    "# Create a Bokeh server application\n",
    "apps = {'/': Application(FunctionHandler(modify_doc))}\n",
    "server = Server(apps, io_loop=IOLoop(), port=5000)\n",
    "\n",
    "# Add the plot to the application\n",
    "server.document_roots[0].children.append(fig)\n",
    "\n",
    "# Define the server behavior\n",
    "def on_session_created(session_context):\n",
    "    pass\n",
    "server.on_session_created = on_session_created\n",
    "\n",
    "# Start the server\n",
    "server.start()"
   ]
  },
  {
   "attachments": {},
   "cell_type": "markdown",
   "metadata": {},
   "source": [
    "Q5. How can you embed a Bokeh plot into a web page or dashboard using Flask or Django?\n",
    "To embed a Bokeh plot into a web page or dashboard using Flask or Django, you can follow these steps:\n",
    "\n",
    "1.Define the data and the plot as you would normally in Bokeh.\n",
    "2.Import the necessary modules from Bokeh and the web framework of your choice.\n",
    "3.Create a route in the web application that will render the plot.\n",
    "4.Create a function that generates the plot and returns it as an HTML string.\n",
    "5.Render the HTML string in the web application route."
   ]
  },
  {
   "cell_type": "code",
   "execution_count": null,
   "metadata": {},
   "outputs": [],
   "source": []
  },
  {
   "cell_type": "code",
   "execution_count": null,
   "metadata": {},
   "outputs": [],
   "source": [
    "from flask import Flask, render_template\n",
    "from bokeh.plotting import figure\n",
    "from bokeh.embed import components\n",
    "\n",
    "# Define the data and the plot\n",
    "x = [1, 2, 3, 4, 5]\n",
    "y = [2, 5, 3, 7, 1]\n",
    "fig = figure(title=\"Flask Embedding Example\", x_axis_label=\"X\", y_axis_label=\"Y\")\n",
    "fig.line(x, y)\n",
    "\n",
    "# Create a Flask application\n",
    "app = Flask(__name__)\n",
    "\n",
    "# Create a route that renders the plot\n",
    "@app.route('/')\n",
    "def index():\n",
    "    plot = create_plot()\n",
    "    script, div = components(plot)\n",
    "    return render_template('index.html', script=script, div=div)\n",
    "\n",
    "# Create a function that generates the plot\n",
    "def create_plot():\n",
    "    return fig\n",
    "\n",
    "# Run the Flask application\n",
    "if __name__ == '__main__':\n",
    "    app.run()\n"
   ]
  }
 ],
 "metadata": {
  "language_info": {
   "name": "python"
  },
  "orig_nbformat": 4
 },
 "nbformat": 4,
 "nbformat_minor": 2
}
