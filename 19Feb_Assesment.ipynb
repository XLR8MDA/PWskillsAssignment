{
 "cells": [
  {
   "cell_type": "markdown",
   "id": "bcb37220-629f-4eca-9dcb-f5aec122b813",
   "metadata": {},
   "source": [
    "Q1. What is Flask Framework? What are the advantages of Flask Framework?\n",
    "Flask is a micro web framework written in Python. It is designed to be lightweight and modular, with minimal dependencies on external libraries. Flask is often used for building small to medium-sized web applications and APIs.\n",
    "The advantages of Flask include:\n",
    "1.Lightweight and modular\n",
    "2.Flexibility\n",
    "3.Easy to learn\n",
    "4.Large community\n",
    "5.Extensive documentation\n",
    "6.Built-in development server"
   ]
  },
  {
   "cell_type": "markdown",
   "id": "1f62a261-e843-4898-8414-76fb65251d80",
   "metadata": {},
   "source": [
    "Q2. Create a simple Flask application to display ‘Hello World!!’. Attach the screenshot of the output in\n",
    "Jupyter Notebook."
   ]
  },
  {
   "cell_type": "code",
   "execution_count": null,
   "id": "a5a12aef-c822-4a40-87c2-0bd6ee377286",
   "metadata": {},
   "outputs": [],
   "source": [
    "from flask import Flask\n",
    "app = Flask(__name__)\n",
    "@app.route('/')\n",
    "def hello_world():\n",
    "    return 'Hello World!!'\n",
    "if __name__ == '__main__':\n",
    "    app.run()"
   ]
  },
  {
   "cell_type": "markdown",
   "id": "4fd5fa72-40c3-4df0-b3b5-0ed2e75d1f88",
   "metadata": {},
   "source": [
    "Q3. What is App routing in Flask? Why do we use app routes?\n",
    "\n",
    "In Flask, app routing refers to the process of mapping a URL to a view function that generates an HTTP response. This is done using the @app.route decorator, which is used to define a URL route.\n",
    "\n",
    "App routes are used for several reasons, including:\n",
    "1.Separating concerns\n",
    "2.Providing a clear API\n",
    "3.Enabling testing"
   ]
  },
  {
   "cell_type": "markdown",
   "id": "58ac7931-0a99-4025-b536-b88a6dab5ee6",
   "metadata": {},
   "source": [
    "Q4. Create a “/welcome” route to display the welcome message “Welcome to ABC Corporation” and a “/”\n",
    "route to show the following details:\n",
    "Company Name: ABC Corporation\n",
    "Location: India\n",
    "Contact Detail: 999-999-9999"
   ]
  },
  {
   "cell_type": "code",
   "execution_count": null,
   "id": "1bb3ce94-6d38-4a4e-b73c-06c975c48671",
   "metadata": {},
   "outputs": [],
   "source": [
    "from flask import Flask\n",
    "\n",
    "app = Flask(__name__)\n",
    "\n",
    "@app.route('/welcome')\n",
    "def welcome():\n",
    "    return 'Welcome to ABC Corporation'\n",
    "\n",
    "@app.route('/')\n",
    "def home():\n",
    "    company_name = 'ABC Corporation'\n",
    "    location = 'India'\n",
    "    contact_detail = '999-999-9999'\n",
    "    return f'Company Name: {company_name}<br>Location: {location}<br>Contact Detail: {contact_detail}'\n",
    "\n",
    "if __name__ == '__main__':\n",
    "    app.run()\n"
   ]
  },
  {
   "cell_type": "markdown",
   "id": "f28202c5-39b2-443b-b14c-502a5d300922",
   "metadata": {},
   "source": [
    "Q5. What function is used in Flask for URL Building? Write a Python code to demonstrate the working of the\n",
    "url_for() function.\n",
    "\n",
    "The url_for() function is used in Flask for URL building. It generates a URL to the specified endpoint with the method provided."
   ]
  },
  {
   "cell_type": "code",
   "execution_count": null,
   "id": "a23a5567-34cf-4cba-9ed9-19335fa71ad2",
   "metadata": {},
   "outputs": [],
   "source": [
    "from flask import Flask, url_for\n",
    "\n",
    "app = Flask(__name__)\n",
    "\n",
    "@app.route('/')\n",
    "def home():\n",
    "    return 'This is the home page'\n",
    "\n",
    "@app.route('/profile/<username>')\n",
    "def profile(username):\n",
    "    return f'This is the profile page for {username}'\n",
    "\n",
    "@app.route('/dashboard')\n",
    "def dashboard():\n",
    "    return 'This is the dashboard page'\n",
    "\n",
    "with app.test_request_context():\n",
    "    print(url_for('home'))\n",
    "    print(url_for('profile', username='john'))\n",
    "    print(url_for('dashboard'))\n"
   ]
  }
 ],
 "metadata": {
  "kernelspec": {
   "display_name": "Python 3 (ipykernel)",
   "language": "python",
   "name": "python3"
  },
  "language_info": {
   "codemirror_mode": {
    "name": "ipython",
    "version": 3
   },
   "file_extension": ".py",
   "mimetype": "text/x-python",
   "name": "python",
   "nbconvert_exporter": "python",
   "pygments_lexer": "ipython3",
   "version": "3.10.8"
  }
 },
 "nbformat": 4,
 "nbformat_minor": 5
}
